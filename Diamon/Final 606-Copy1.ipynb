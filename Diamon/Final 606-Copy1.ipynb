{
 "cells": [
  {
   "cell_type": "code",
   "execution_count": null,
   "id": "b65d0554",
   "metadata": {},
   "outputs": [],
   "source": [
    "import numpy as np\n",
    "import pandas as pd\n",
    "\n",
    "from sklearn.preprocessing import RobustScaler, StandardScaler\n",
    "from sklearn.preprocessing import OneHotEncoder, OrdinalEncoder\n",
    "from sklearn.model_selection import train_test_split\n",
    "from sklearn.linear_model import LogisticRegression\n",
    "from sklearn.linear_model import LinearRegression\n",
    "from sklearn.ensemble import RandomForestClassifier\n",
    "from sklearn.metrics import roc_auc_score\n",
    "from sklearn.preprocessing import LabelEncoder\n",
    "from sklearn.metrics import mean_squared_error\n",
    "from sklearn.linear_model import SGDRegressor\n",
    "from sklearn.linear_model import LinearRegression\n",
    "import matplotlib.pylab as plt\n",
    "from sklearn.ensemble import RandomForestRegressor\n",
    "from sklearn.model_selection import GridSearchCV"
   ]
  },
  {
   "cell_type": "code",
   "execution_count": null,
   "id": "8ded104f",
   "metadata": {},
   "outputs": [],
   "source": [
    "diamantes = pd.read_csv('/Users/anadeondarza/Desktop/ironhack_data/Todo junto/Data/diamantes.csv')\n",
    "diamantes = diamantes.drop('Unnamed: 0', axis=1)\n",
    "diamantes"
   ]
  },
  {
   "cell_type": "code",
   "execution_count": null,
   "id": "d0f82449",
   "metadata": {},
   "outputs": [],
   "source": [
    "diamantes.rename(columns={'price':'target'},\n",
    "               inplace=True)"
   ]
  },
  {
   "cell_type": "code",
   "execution_count": null,
   "id": "031f19d1",
   "metadata": {},
   "outputs": [],
   "source": [
    "y = diamantes.target\n",
    "y"
   ]
  },
  {
   "cell_type": "code",
   "execution_count": null,
   "id": "4bb628d9",
   "metadata": {},
   "outputs": [],
   "source": [
    "diamantes[\"Volumen\"] = diamantes['x']*diamantes['y']*diamantes['z']\n",
    "diamantes"
   ]
  },
  {
   "cell_type": "code",
   "execution_count": null,
   "id": "9deac2be",
   "metadata": {},
   "outputs": [],
   "source": [
    "diamantes_p1 = diamantes.drop([\"target\",\"cut\", \"color\", \"clarity\",\"city\",\"x\",\"y\",\"z\"], axis = 1)\n",
    "diamantes_p1"
   ]
  },
  {
   "cell_type": "code",
   "execution_count": null,
   "id": "a4b58180",
   "metadata": {},
   "outputs": [],
   "source": [
    "scaler = StandardScaler()\n",
    "p1_scaler = scaler.fit_transform(diamantes_p1)\n",
    "p1_scaler"
   ]
  },
  {
   "cell_type": "code",
   "execution_count": null,
   "id": "b5b321a2",
   "metadata": {},
   "outputs": [],
   "source": [
    "X1 = pd.DataFrame(p1_scaler)"
   ]
  },
  {
   "cell_type": "code",
   "execution_count": null,
   "id": "17fc29a4",
   "metadata": {},
   "outputs": [],
   "source": [
    "X1"
   ]
  },
  {
   "cell_type": "code",
   "execution_count": null,
   "id": "039d01f3",
   "metadata": {},
   "outputs": [],
   "source": [
    "diamantes_p2 = diamantes[[\"cut\", \"color\", \"clarity\",\"city\"]]"
   ]
  },
  {
   "cell_type": "code",
   "execution_count": null,
   "id": "b723c2a9",
   "metadata": {},
   "outputs": [],
   "source": [
    "diamantes_p2"
   ]
  },
  {
   "cell_type": "code",
   "execution_count": null,
   "id": "604b2ccd",
   "metadata": {},
   "outputs": [],
   "source": [
    "label_encoder = LabelEncoder()"
   ]
  },
  {
   "cell_type": "code",
   "execution_count": null,
   "id": "3258d0b9",
   "metadata": {},
   "outputs": [],
   "source": [
    "for x in diamantes_p2.columns:\n",
    "    diamantes_p2[x] = label_encoder.fit_transform(diamantes_p2[x])\n",
    "diamantes_p2"
   ]
  },
  {
   "cell_type": "code",
   "execution_count": null,
   "id": "d6d66c09",
   "metadata": {},
   "outputs": [],
   "source": [
    "scaler = StandardScaler()\n",
    "p2_scaler = scaler.fit_transform(diamantes_p2)\n",
    "p2_scaler"
   ]
  },
  {
   "cell_type": "code",
   "execution_count": null,
   "id": "95b5117f",
   "metadata": {},
   "outputs": [],
   "source": [
    "X2 = pd.DataFrame(p2_scaler)"
   ]
  },
  {
   "cell_type": "code",
   "execution_count": null,
   "id": "cf2dcb61",
   "metadata": {},
   "outputs": [],
   "source": [
    "X2"
   ]
  },
  {
   "cell_type": "code",
   "execution_count": null,
   "id": "1e829ae7",
   "metadata": {},
   "outputs": [],
   "source": [
    "X = pd.merge(X1, X2, left_index=True, right_index=True)\n",
    "X"
   ]
  },
  {
   "cell_type": "code",
   "execution_count": null,
   "id": "81dd0c5f",
   "metadata": {},
   "outputs": [],
   "source": [
    "X_train, X_test, y_train, y_test = train_test_split(X, y, test_size=0.2, random_state=42)\n",
    "print(f\"X_train: {X_train.shape}, X_test: {X_test.shape}, y_train: {y_train.shape}, y_test: {y_test.shape}\")"
   ]
  },
  {
   "cell_type": "code",
   "execution_count": null,
   "id": "1d42fd06",
   "metadata": {},
   "outputs": [],
   "source": [
    "\n",
    "param_grid = {\n",
    "    'bootstrap': [True],\n",
    "    'max_depth': [50,80,100],\n",
    "    'max_features': [3,5,7,9],\n",
    "    'min_samples_leaf': [1,2,3,4,5],\n",
    "    'min_samples_split': [4, 6, 8],\n",
    "    'n_estimators': [50,100, 200, 300]\n",
    "}\n",
    "\n",
    "rf = RandomForestRegressor()\n",
    "\n",
    "grid_search = GridSearchCV(estimator = rf, param_grid = param_grid, \n",
    "                          cv = 3, n_jobs = -1, verbose = 2)\n",
    "\n",
    "grid_search.fit(X_train, y_train)\n",
    "grid_search.best_params_\n"
   ]
  },
  {
   "cell_type": "code",
   "execution_count": null,
   "id": "05cfcecc",
   "metadata": {},
   "outputs": [],
   "source": [
    "grid_search.best_params_"
   ]
  },
  {
   "cell_type": "code",
   "execution_count": null,
   "id": "efdf2fcc",
   "metadata": {},
   "outputs": [],
   "source": []
  },
  {
   "cell_type": "code",
   "execution_count": null,
   "id": "23016133",
   "metadata": {},
   "outputs": [],
   "source": []
  },
  {
   "cell_type": "code",
   "execution_count": null,
   "id": "3121eee4",
   "metadata": {},
   "outputs": [],
   "source": [
    "model = RandomForestRegressor(max_depth = 80,\n",
    "                              bootstrap = True,\n",
    "                              max_features = 3,\n",
    "                              min_samples_leaf= 3,\n",
    "                              min_samples_split= 8,\n",
    "                              n_estimators = 100)"
   ]
  },
  {
   "cell_type": "code",
   "execution_count": null,
   "id": "dff72545",
   "metadata": {},
   "outputs": [],
   "source": [
    "model.fit(X_train, y_train)"
   ]
  },
  {
   "cell_type": "code",
   "execution_count": null,
   "id": "f6feff43",
   "metadata": {},
   "outputs": [],
   "source": [
    "predictions = model.predict(X_test)\n",
    "predictions"
   ]
  },
  {
   "cell_type": "code",
   "execution_count": null,
   "id": "3afcc4f1",
   "metadata": {},
   "outputs": [],
   "source": [
    "rmse = mean_squared_error(predictions, y_test, squared=False)\n",
    "rmse"
   ]
  },
  {
   "cell_type": "code",
   "execution_count": null,
   "id": "79d668b6",
   "metadata": {},
   "outputs": [],
   "source": []
  },
  {
   "cell_type": "code",
   "execution_count": null,
   "id": "f3d84382",
   "metadata": {},
   "outputs": [],
   "source": []
  },
  {
   "cell_type": "code",
   "execution_count": null,
   "id": "916c92f0",
   "metadata": {},
   "outputs": [],
   "source": [
    "diamantes_predicts = pd.read_csv('/Users/anadeondarza/Desktop/ironhack_data/Todo junto/Data/diamonds_test.csv')\n",
    "diamantes_predicts"
   ]
  },
  {
   "cell_type": "code",
   "execution_count": null,
   "id": "1f3dc2ca",
   "metadata": {},
   "outputs": [],
   "source": [
    "diamantes_predicts = diamantes_predicts.drop('id', axis=1)"
   ]
  },
  {
   "cell_type": "code",
   "execution_count": null,
   "id": "34250d3e",
   "metadata": {},
   "outputs": [],
   "source": [
    "diamantes_predicts"
   ]
  },
  {
   "cell_type": "code",
   "execution_count": null,
   "id": "844e4fdf",
   "metadata": {},
   "outputs": [],
   "source": [
    "diamantes_predicts[\"Volumen\"] = diamantes_predicts['x']*diamantes_predicts['y']*diamantes_predicts['z']\n",
    "diamantes_predicts"
   ]
  },
  {
   "cell_type": "code",
   "execution_count": null,
   "id": "bf0c1585",
   "metadata": {},
   "outputs": [],
   "source": [
    "diamantes_predicts_p1 = diamantes_predicts.drop([\"cut\", \"color\", \"clarity\",\"city\",\"x\",\"y\",\"z\"], axis = 1)\n",
    "diamantes_predicts_p1"
   ]
  },
  {
   "cell_type": "code",
   "execution_count": null,
   "id": "48b71d7c",
   "metadata": {},
   "outputs": [],
   "source": [
    "scaler = StandardScaler()\n",
    "p1_scaler_predi = scaler.fit_transform(diamantes_predicts_p1)\n",
    "p1_scaler_predi"
   ]
  },
  {
   "cell_type": "code",
   "execution_count": null,
   "id": "f78b4899",
   "metadata": {},
   "outputs": [],
   "source": [
    "X1_predi = pd.DataFrame(p1_scaler_predi)"
   ]
  },
  {
   "cell_type": "code",
   "execution_count": null,
   "id": "2a19655a",
   "metadata": {},
   "outputs": [],
   "source": [
    "diamantes_p2_predi = diamantes_predicts[[\"cut\", \"color\", \"clarity\",\"city\"]]"
   ]
  },
  {
   "cell_type": "code",
   "execution_count": null,
   "id": "f697966a",
   "metadata": {},
   "outputs": [],
   "source": [
    "diamantes_p2_predi"
   ]
  },
  {
   "cell_type": "code",
   "execution_count": null,
   "id": "7117fa77",
   "metadata": {},
   "outputs": [],
   "source": [
    "for x in diamantes_p2_predi.columns:\n",
    "    diamantes_p2_predi[x] = label_encoder.fit_transform(diamantes_p2_predi[x])\n",
    "diamantes_p2_predi"
   ]
  },
  {
   "cell_type": "code",
   "execution_count": null,
   "id": "285cb791",
   "metadata": {},
   "outputs": [],
   "source": [
    "scaler = StandardScaler()\n",
    "p2_scaler_predi = scaler.fit_transform(diamantes_p2_predi)\n",
    "p2_scaler_predi"
   ]
  },
  {
   "cell_type": "code",
   "execution_count": null,
   "id": "4ff2cd4a",
   "metadata": {},
   "outputs": [],
   "source": [
    "X2_predi = pd.DataFrame(p2_scaler_predi)\n",
    "X2_predi"
   ]
  },
  {
   "cell_type": "code",
   "execution_count": null,
   "id": "6bafb042",
   "metadata": {},
   "outputs": [],
   "source": [
    "X = pd.merge(X1_predi, X2_predi, left_index=True, right_index=True)\n",
    "X"
   ]
  },
  {
   "cell_type": "code",
   "execution_count": null,
   "id": "633dd7e8",
   "metadata": {},
   "outputs": [],
   "source": [
    "final = model.predict(X)\n",
    "final"
   ]
  },
  {
   "cell_type": "code",
   "execution_count": null,
   "id": "9319061c",
   "metadata": {},
   "outputs": [],
   "source": [
    "final = pd.DataFrame(final).rename(columns = {0:'price'})\n",
    "final.index.names = ['id']\n",
    "final"
   ]
  },
  {
   "cell_type": "code",
   "execution_count": null,
   "id": "bccf71fe",
   "metadata": {},
   "outputs": [],
   "source": [
    "Entregado = final.to_csv('Entregado_prueba.csv')"
   ]
  },
  {
   "cell_type": "code",
   "execution_count": null,
   "id": "4137a325",
   "metadata": {},
   "outputs": [],
   "source": []
  },
  {
   "cell_type": "code",
   "execution_count": null,
   "id": "d9c16b8e",
   "metadata": {},
   "outputs": [],
   "source": []
  },
  {
   "cell_type": "code",
   "execution_count": null,
   "id": "76eaee40",
   "metadata": {},
   "outputs": [],
   "source": []
  },
  {
   "cell_type": "code",
   "execution_count": null,
   "id": "d624a8c3",
   "metadata": {},
   "outputs": [],
   "source": []
  },
  {
   "cell_type": "code",
   "execution_count": null,
   "id": "7060eee8",
   "metadata": {},
   "outputs": [],
   "source": []
  },
  {
   "cell_type": "code",
   "execution_count": null,
   "id": "b05ba256",
   "metadata": {},
   "outputs": [],
   "source": []
  },
  {
   "cell_type": "code",
   "execution_count": null,
   "id": "95e78a7a",
   "metadata": {},
   "outputs": [],
   "source": []
  },
  {
   "cell_type": "code",
   "execution_count": null,
   "id": "b1c69fec",
   "metadata": {},
   "outputs": [],
   "source": []
  },
  {
   "cell_type": "code",
   "execution_count": null,
   "id": "002ebf22",
   "metadata": {},
   "outputs": [],
   "source": []
  },
  {
   "cell_type": "code",
   "execution_count": null,
   "id": "8c1f0e13",
   "metadata": {},
   "outputs": [],
   "source": []
  },
  {
   "cell_type": "code",
   "execution_count": null,
   "id": "78600592",
   "metadata": {},
   "outputs": [],
   "source": []
  },
  {
   "cell_type": "code",
   "execution_count": null,
   "id": "472b807d",
   "metadata": {},
   "outputs": [],
   "source": []
  }
 ],
 "metadata": {
  "kernelspec": {
   "display_name": "Python [conda env:sklearn-env]",
   "language": "python",
   "name": "conda-env-sklearn-env-py"
  },
  "language_info": {
   "codemirror_mode": {
    "name": "ipython",
    "version": 3
   },
   "file_extension": ".py",
   "mimetype": "text/x-python",
   "name": "python",
   "nbconvert_exporter": "python",
   "pygments_lexer": "ipython3",
   "version": "3.10.6"
  }
 },
 "nbformat": 4,
 "nbformat_minor": 5
}
